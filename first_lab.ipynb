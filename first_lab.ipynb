{
  "nbformat": 4,
  "nbformat_minor": 0,
  "metadata": {
    "colab": {
      "name": "first_lab.ipynb",
      "provenance": [],
      "authorship_tag": "ABX9TyPwsu9PpTMr5U52PXMX7AGj",
      "include_colab_link": true
    },
    "kernelspec": {
      "name": "python3",
      "display_name": "Python 3"
    }
  },
  "cells": [
    {
      "cell_type": "markdown",
      "metadata": {
        "id": "view-in-github",
        "colab_type": "text"
      },
      "source": [
        "<a href=\"https://colab.research.google.com/github/Limontika/python_ML/blob/master/first_lab.ipynb\" target=\"_parent\"><img src=\"https://colab.research.google.com/assets/colab-badge.svg\" alt=\"Open In Colab\"/></a>"
      ]
    },
    {
      "cell_type": "code",
      "metadata": {
        "id": "CFXyRUopf300",
        "colab_type": "code",
        "colab": {
          "base_uri": "https://localhost:8080/",
          "height": 35
        },
        "outputId": "9b6534f4-9c13-455a-8225-8d6e400d6aab"
      },
      "source": [
        "# -*- coding: utf-8 -*-\n",
        "'''\n",
        "Задание 4.1\n",
        "Обработать строку nat таким образом,\n",
        "чтобы в имени интерфейса вместо FastEthernet было GigabitEthernet.\n",
        "Ограничение: Все задания надо выполнять используя только пройденные темы.\n",
        "'''\n",
        "\n",
        "nat = 'ip nat inside source list ACL interface FastEthernet0/1 overload'\n",
        "print(nat.replace('Fast', 'Gigabit'))"
      ],
      "execution_count": 1,
      "outputs": [
        {
          "output_type": "stream",
          "text": [
            "ip nat inside source list ACL interface GigabitEthernet0/1 overload\n"
          ],
          "name": "stdout"
        }
      ]
    },
    {
      "cell_type": "code",
      "metadata": {
        "id": "CcnZHbJMgFtx",
        "colab_type": "code",
        "colab": {}
      },
      "source": [
        "# -*- coding: utf-8 -*-\n",
        "'''\n",
        "Задание 4.2\n",
        "Преобразовать строку mac из формата XXXX:XXXX:XXXX в формат XXXX.XXXX.XXXX\n",
        "Ограничение: Все задания надо выполнять используя только пройденные темы.\n",
        "'''\n",
        "\n",
        "mac = 'AAAA:BBBB:CCCC'\n",
        "print(mac.replace(':', '.'))"
      ],
      "execution_count": 0,
      "outputs": []
    },
    {
      "cell_type": "code",
      "metadata": {
        "id": "RsvD-gRmgGby",
        "colab_type": "code",
        "colab": {}
      },
      "source": [
        "# -*- coding: utf-8 -*-\n",
        "'''\n",
        "Задание 4.3\n",
        "Получить из строки config список VLANов вида:\n",
        "['1', '3', '10', '20', '30', '100']\n",
        "Ограничение: Все задания надо выполнять используя только пройденные темы.\n",
        "'''\n",
        "\n",
        "config = 'switchport trunk allowed vlan 1,3,10,20,30,100'\n",
        "tmp = config.split()\n",
        "print(tmp[-1].split(','))"
      ],
      "execution_count": 0,
      "outputs": []
    },
    {
      "cell_type": "code",
      "metadata": {
        "id": "TMBQMwGMgJGk",
        "colab_type": "code",
        "colab": {}
      },
      "source": [
        "# -*- coding: utf-8 -*-\n",
        "'''\n",
        "Задание 4.4\n",
        "Список vlans это список VLANов, собранных со всех устройств сети,\n",
        "поэтому в списке есть повторяющиеся номера VLAN.\n",
        "Из списка нужно получить уникальный список VLANов,\n",
        "отсортированный по возрастанию номеров.\n",
        "Ограничение: Все задания надо выполнять используя только пройденные темы.\n",
        "'''\n",
        "\n",
        "vlans = [10, 20, 30, 1, 2, 100, 10, 30, 3, 4, 10]\n",
        "vlans.sort()\n",
        "print(set(vlans))"
      ],
      "execution_count": 0,
      "outputs": []
    },
    {
      "cell_type": "code",
      "metadata": {
        "id": "lyQbGQqhgL7F",
        "colab_type": "code",
        "colab": {}
      },
      "source": [
        "# -*- coding: utf-8 -*-\n",
        "'''\n",
        "Задание 4.5\n",
        "Из строк command1 и command2 получить список VLANов,\n",
        "которые есть и в команде command1 и в команде command2.\n",
        "Результатом должен быть список: ['1', '3', '8']\n",
        "Ограничение: Все задания надо выполнять используя только пройденные темы.\n",
        "'''\n",
        "\n",
        "command1 = 'switchport trunk allowed vlan 1,2,3,5,8'\n",
        "command2 = 'switchport trunk allowed vlan 1,3,8,9'\n",
        "\n",
        "vlan1 = command1.split()[-1]\n",
        "vlan2 = command2.split()[-1]\n",
        "\n",
        "vlan1 = set(vlan1.split(','))\n",
        "vlan2 = set(vlan2.split(','))\n",
        "\n",
        "vlan = list(vlan1 & vlan2)\n",
        "vlan.sort()\n",
        "print(vlan)"
      ],
      "execution_count": 0,
      "outputs": []
    },
    {
      "cell_type": "code",
      "metadata": {
        "id": "eI9mQ30pgPqM",
        "colab_type": "code",
        "colab": {}
      },
      "source": [
        "# -*- coding: utf-8 -*-\n",
        "'''\n",
        "Задание 4.6\n",
        "Обработать строку ospf_route и вывести информацию на стандартный поток вывода в виде:\n",
        "Protocol:              OSPF\n",
        "Prefix:                10.0.24.0/24\n",
        "AD/Metric:             110/41\n",
        "Next-Hop:              10.0.13.3\n",
        "Last update:           3d18h\n",
        "Outbound Interface:    FastEthernet0/0\n",
        "Ограничение: Все задания надо выполнять используя только пройденные темы.\n",
        "'''\n",
        "\n",
        "ospf_route = 'O        10.0.24.0/24 [110/41] via 10.0.13.3, 3d18h, FastEthernet0/0'\n",
        "ospf_route = ospf_route.split()\n",
        "print(''' \n",
        "    Protocol:              {}\n",
        "    Prefix:                {}\n",
        "    AD/Metric:             {}\n",
        "    Next-Hop:              {}\n",
        "    Last update:           {}\n",
        "    Outbound Interface:    {}'''.format(ospf_route[0],\n",
        "                                        ospf_route[1],\n",
        "                                        ospf_route[2].strip('[]'),\n",
        "                                        ospf_route[4].replace(',', ''),\n",
        "                                        ospf_route[5].replace(',', ''),\n",
        "                                        ospf_route[6]))"
      ],
      "execution_count": 0,
      "outputs": []
    },
    {
      "cell_type": "code",
      "metadata": {
        "id": "FjGRqDWegTVX",
        "colab_type": "code",
        "colab": {}
      },
      "source": [
        "# -*- coding: utf-8 -*-\n",
        "'''\n",
        "Задание 4.7\n",
        "Преобразовать MAC-адрес mac в двоичную строку такого вида:\n",
        "'1010101010101010 1011101110111011 1100110011001100'\n",
        "Ограничение: Все задания надо выполнять используя только пройденные темы.\n",
        "'''\n",
        "\n",
        "mac = 'AAAA:BBBB:CCCC'\n",
        "mac = mac.replace('A', '1010')\n",
        "mac = mac.replace('B', '1011')\n",
        "mac = mac.replace('C', '1100')\n",
        "print(mac.replace(':', ''))"
      ],
      "execution_count": 0,
      "outputs": []
    },
    {
      "cell_type": "code",
      "metadata": {
        "id": "-b42lHk-gYFm",
        "colab_type": "code",
        "colab": {}
      },
      "source": [
        "# -*- coding: utf-8 -*-\n",
        "'''\n",
        "Задание 5.1\n",
        "В задании создан словарь, с информацией о разных устройствах.\n",
        "Необходимо запросить у пользователя ввод имени устройства (r1, r2 или sw1).\n",
        "И вывести информацию о соответствующем устройстве на стандартный поток вывода\n",
        "(информация будет в виде словаря).\n",
        "Пример выполнения скрипта:\n",
        "$ python task_5_1.py\n",
        "Введите имя устройства: r1\n",
        "{'location': '21 New Globe Walk', 'vendor': 'Cisco', 'model': '4451', 'ios': '15.4', 'ip': '10.255.0.1'}\n",
        "Ограничение: нельзя изменять словарь london_co.\n",
        "Все задания надо выполнять используя только пройденные темы.\n",
        "То есть эту задачу можно решить без использования условия if.\n",
        "'''\n",
        "\n",
        "london_co = {\n",
        "    'r1': {\n",
        "        'location': '21 New Globe Walk',\n",
        "        'vendor': 'Cisco',\n",
        "        'model': '4451',\n",
        "        'ios': '15.4',\n",
        "        'ip': '10.255.0.1'\n",
        "    },\n",
        "    'r2': {\n",
        "        'location': '21 New Globe Walk',\n",
        "        'vendor': 'Cisco',\n",
        "        'model': '4451',\n",
        "        'ios': '15.4',\n",
        "        'ip': '10.255.0.2'\n",
        "    },\n",
        "    'sw1': {\n",
        "        'location': '21 New Globe Walk',\n",
        "        'vendor': 'Cisco',\n",
        "        'model': '3850',\n",
        "        'ios': '3.6.XE',\n",
        "        'ip': '10.255.0.101',\n",
        "        'vlans': '10,20,30',\n",
        "        'routing': True\n",
        "    }\n",
        "}\n",
        "\n",
        "name_app = input(\"Введите имя устройства: \")\n",
        "name_param = input(\"Введите имя параметра ({}): \".format(sorted(london_co[name_app])))\n",
        "print(london_co[name_app][name_param])"
      ],
      "execution_count": 0,
      "outputs": []
    },
    {
      "cell_type": "code",
      "metadata": {
        "id": "Ja2bx2AeghHy",
        "colab_type": "code",
        "colab": {}
      },
      "source": [
        "# -*- coding: utf-8 -*-\n",
        "'''\n",
        "Задание 6.1\n",
        "Список mac содержит MAC-адреса в формате XXXX:XXXX:XXXX.\n",
        "Однако, в оборудовании cisco MAC-адреса используются в формате XXXX.XXXX.XXXX.\n",
        "Создать скрипт, который преобразует MAC-адреса в формат cisco\n",
        "и добавляет их в новый список mac_cisco\n",
        "Ограничение: Все задания надо выполнять используя только пройденные темы.\n",
        "'''\n",
        "\n",
        "mac = ['aabb:cc80:7000', 'aabb:dd80:7340', 'aabb:ee80:7000', 'aabb:ff80:7000']\n",
        "mac_cisco = []\n",
        "for item in mac:\n",
        "    mac_cisco.append(item.replace(':', '.'))\n",
        "\n",
        "print(mac_cisco)"
      ],
      "execution_count": 0,
      "outputs": []
    },
    {
      "cell_type": "code",
      "metadata": {
        "id": "25TgFdDGgmEh",
        "colab_type": "code",
        "colab": {}
      },
      "source": [
        "# -*- coding: utf-8 -*-\n",
        "'''\n",
        "Задание 6.2\n",
        "1. Запросить у пользователя ввод IP-адреса в формате 10.0.1.1\n",
        "2. Определить тип IP-адреса.\n",
        "3. В зависимости от типа адреса, вывести на стандартный поток вывода:\n",
        "   'unicast' - если первый байт в диапазоне 1-223\n",
        "   'multicast' - если первый байт в диапазоне 224-239\n",
        "   'local broadcast' - если IP-адрес равен 255.255.255.255\n",
        "   'unassigned' - если IP-адрес равен 0.0.0.0\n",
        "   'unused' - во всех остальных случаях\n",
        "Ограничение: Все задания надо выполнять используя только пройденные темы.\n",
        "'''\n",
        "\n",
        "input_ip = input('Введите IP в формате 10.0.1.1: ')\n",
        "tmp = input_ip.split('.')\n",
        "if input_ip == '0.0.0.0':\n",
        "    print('unassigned')\n",
        "elif input_ip == '255.255.255.255':\n",
        "    print('local broadcast')\n",
        "elif int(tmp[0]) <= 223:\n",
        "    print('unicast')\n",
        "elif int(tmp[0]) >= 224 and int(tmp[0]) <= 239:\n",
        "    print('multicast')\n",
        "else:\n",
        "    print('unused')"
      ],
      "execution_count": 0,
      "outputs": []
    },
    {
      "cell_type": "code",
      "metadata": {
        "id": "c3fsMksSgpLR",
        "colab_type": "code",
        "colab": {}
      },
      "source": [
        "# -*- coding: utf-8 -*-\n",
        "'''\n",
        "Задание 7.1\n",
        "Аналогично заданию 4.6 обработать строки из файла ospf.txt\n",
        "и вывести информацию по каждой в таком виде:\n",
        "Protocol:              OSPF\n",
        "Prefix:                10.0.24.0/24\n",
        "AD/Metric:             110/41\n",
        "Next-Hop:              10.0.13.3\n",
        "Last update:           3d18h\n",
        "Outbound Interface:    FastEthernet0/0\n",
        "Ограничение: Все задания надо выполнять используя только пройденные темы.\n",
        "'''\n",
        "\n",
        "file = open('ospf.txt', 'r')\n",
        "\n",
        "for line in file:\n",
        "    ospf_route = line.split()\n",
        "    print(''' \n",
        "        Protocol:              {}SPF\n",
        "        Prefix:                {}\n",
        "        AD/Metric:             {}\n",
        "        Next-Hop:              {}\n",
        "        Last update:           {}\n",
        "        Outbound Interface:    {}'''.format(ospf_route[0],\n",
        "                                            ospf_route[1],\n",
        "                                            ospf_route[2].strip('[]'),\n",
        "                                            ospf_route[4].replace(',', ''),\n",
        "                                            ospf_route[5].replace(',', ''),\n",
        "                                            ospf_route[6]))"
      ],
      "execution_count": 0,
      "outputs": []
    },
    {
      "cell_type": "code",
      "metadata": {
        "id": "ULRoKjNQg4Jm",
        "colab_type": "code",
        "colab": {}
      },
      "source": [
        "# -*- coding: utf-8 -*-\n",
        "'''\n",
        "Задание 7.2\n",
        "Создать скрипт, который будет обрабатывать конфигурационный файл config_sw1.txt:\n",
        "- имя файла передается как аргумент скрипту\n",
        "Скрипт должен возвращать на стандартный поток вывода команды из переданного\n",
        "конфигурационного файла, исключая строки, которые начинаются с '!'.\n",
        "Между строками не должно быть дополнительного символа перевода строки.\n",
        "Ограничение: Все задания надо выполнять используя только пройденные темы.\n",
        "'''\n",
        "\n",
        "with open('config_sw1.txt', 'r') as file:\n",
        "    for line in file:\n",
        "        if line[0] != '!':\n",
        "            print(line.rstrip())"
      ],
      "execution_count": 0,
      "outputs": []
    },
    {
      "cell_type": "code",
      "metadata": {
        "id": "rHUc2iSlg8Gg",
        "colab_type": "code",
        "colab": {
          "base_uri": "https://localhost:8080/",
          "height": 135
        },
        "outputId": "2f9dd52d-b9dd-45be-c3d1-ebf39706cf2f"
      },
      "source": [
        "\"\"\"Modify the kebabize function so that it converts a camel case string into a kebab case.\n",
        "\n",
        "kebabize('camelsHaveThreeHumps') // camels-have-three-humps\n",
        "kebabize('camelsHave3Humps') // camels-have-humps\"\"\"\n",
        "\n",
        "def kebabize(s):\n",
        "    return ''.join(c if c.islower() else '-' + c.lower() for c in s if c.isalpha()).strip('-')\n",
        "\n"
      ],
      "execution_count": 1,
      "outputs": [
        {
          "output_type": "error",
          "ename": "SyntaxError",
          "evalue": "ignored",
          "traceback": [
            "\u001b[0;36m  File \u001b[0;32m\"<ipython-input-2-caf8accb8075>\"\u001b[0;36m, line \u001b[0;32m1\u001b[0m\n\u001b[0;31m    Modify the kebabize function so that it converts a camel case string into a kebab case.\u001b[0m\n\u001b[0m             ^\u001b[0m\n\u001b[0;31mSyntaxError\u001b[0m\u001b[0;31m:\u001b[0m invalid syntax\n"
          ]
        }
      ]
    },
    {
      "cell_type": "code",
      "metadata": {
        "id": "aUEiWOoUhNrx",
        "colab_type": "code",
        "colab": {}
      },
      "source": [
        "\"\"\"In this kata, you must create a digital root function.\n",
        "\n",
        "A digital root is the recursive sum of all the digits in a number. Given n, take the sum of the digits of n. If that value has more than one digit, continue reducing in this way until a single-digit number is produced. This is only applicable to the natural numbers.\n",
        "\n",
        "Here's how it works:\n",
        "\n",
        "digital_root(16)\n",
        "=> 1 + 6\n",
        "=> 7\n",
        "\n",
        "digital_root(942)\n",
        "=> 9 + 4 + 2\n",
        "=> 15 ...\n",
        "=> 1 + 5\n",
        "=> 6\n",
        "\n",
        "digital_root(132189)\n",
        "=> 1 + 3 + 2 + 1 + 8 + 9\n",
        "=> 24 ...\n",
        "=> 2 + 4\n",
        "=> 6\n",
        "\n",
        "digital_root(493193)\n",
        "=> 4 + 9 + 3 + 1 + 9 + 3\n",
        "=> 29 ...\n",
        "=> 2 + 9\n",
        "=> 11 ...\n",
        "=> 1 + 1\n",
        "=> 2\"\"\"\n",
        "\n",
        "def digital_root(n):\n",
        "     return n if n < 10 else digital_root(sum(map(int,str(n))))"
      ],
      "execution_count": 0,
      "outputs": []
    },
    {
      "cell_type": "code",
      "metadata": {
        "id": "wYTI0l4hho1o",
        "colab_type": "code",
        "colab": {}
      },
      "source": [
        "\"\"\"Complete the solution so that it splits the string into pairs of two characters. If the string contains an odd number of characters then it should replace the missing second character of the final pair with an underscore ('_').\n",
        "\n",
        "Examples:\n",
        "\n",
        "solution('abc') # should return ['ab', 'c_']\n",
        "solution('abcdef') # should return ['ab', 'cd', 'ef']\"\"\"\n",
        "\n",
        "def solution(s):\n",
        "    string = []\n",
        "    i = 0\n",
        "    temp = 2\n",
        "    n = 0\n",
        "    if len(s)%2 != 0:\n",
        "        s = s.ljust(len(s)+1,\"_\")\n",
        "    \n",
        "    while i != len(s):\n",
        "        string.append(s[n:temp])\n",
        "        temp = temp + 2\n",
        "        n+=2\n",
        "        i+=2\n",
        "    return string"
      ],
      "execution_count": 0,
      "outputs": []
    }
  ]
}