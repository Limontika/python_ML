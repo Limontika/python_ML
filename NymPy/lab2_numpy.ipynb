{
  "nbformat": 4,
  "nbformat_minor": 0,
  "metadata": {
    "colab": {
      "name": "[homework]numpy.ipynb",
      "provenance": [],
      "collapsed_sections": []
    },
    "kernelspec": {
      "display_name": "Python 3",
      "language": "python",
      "name": "python3"
    },
    "language_info": {
      "codemirror_mode": {
        "name": "ipython",
        "version": 3
      },
      "file_extension": ".py",
      "mimetype": "text/x-python",
      "name": "python",
      "nbconvert_exporter": "python",
      "pygments_lexer": "ipython3",
      "version": "3.5.2"
    }
  },
  "cells": [
    {
      "cell_type": "markdown",
      "metadata": {
        "colab_type": "text",
        "id": "9zWJc5rl9kVh"
      },
      "source": [
        "# Лабораторная работа №2. Библиотеки NumPy и Pandas."
      ]
    },
    {
      "cell_type": "markdown",
      "metadata": {
        "colab_type": "text",
        "id": "nq2vjOfwWLwF"
      },
      "source": [
        "## NumPy"
      ]
    },
    {
      "cell_type": "code",
      "metadata": {
        "colab_type": "code",
        "id": "R0mDEfRJ9kVi",
        "colab": {}
      },
      "source": [
        "import numpy as np"
      ],
      "execution_count": 0,
      "outputs": []
    },
    {
      "cell_type": "markdown",
      "metadata": {
        "colab_type": "text",
        "id": "ZexBy7Kb9kVm"
      },
      "source": [
        "### Задание 1"
      ]
    },
    {
      "cell_type": "markdown",
      "metadata": {
        "colab_type": "text",
        "id": "QuJhYgJU9kVn"
      },
      "source": [
        "Реализуйте функции для перемножения матриц с использованием библиотеки NumPy и без неё (то есть на чистом Python). Сравните время работы функций при помощи команды `%%time`."
      ]
    },
    {
      "cell_type": "code",
      "metadata": {
        "id": "4nh2KTwQQJJz",
        "colab_type": "code",
        "colab": {}
      },
      "source": [
        "A = np.ones((4,4))\n",
        "B = np.ones((4,2))\n"
      ],
      "execution_count": 0,
      "outputs": []
    },
    {
      "cell_type": "code",
      "metadata": {
        "id": "vpCwxJs5P3nQ",
        "colab_type": "code",
        "colab": {
          "base_uri": "https://localhost:8080/",
          "height": 201
        },
        "outputId": "79a6ba67-5d74-4b7c-baf1-6e86d9683e41"
      },
      "source": [
        "# your code here\n",
        "def matrixmult(m1,m2):\n",
        "    s=0     #сумма\n",
        "    t=[]    #временная матрица\n",
        "    m3=[] # конечная матрица\n",
        "    if len(m2)!=len(m1[0]):\n",
        "        print (\"Матрицы не могут быть перемножены\")       \n",
        "    else:\n",
        "        r1=len(m1) #количество строк в первой матрице\n",
        "        c1=len(m1[0]) #Количество столбцов в 1   \n",
        "        r2=c1           #и строк во 2ой матрице\n",
        "        c2=len(m2[0])  # количество столбцов во 2ой матрице\n",
        "        for z in range(0,r1):\n",
        "            for j in range(0,c2):\n",
        "                for i in range(0,c1):\n",
        "                   s=s+m1[z][i]*m2[i][j]\n",
        "                t.append(s)\n",
        "                s=0\n",
        "            m3.append(t)\n",
        "            t=[]           \n",
        "    return m3\n",
        "\n",
        "\n",
        "print(\"Python ->\")\n",
        "%time matrixmult(A, B)\n",
        "print(\"Numpy ->\")\n",
        "%time A.dot(B) "
      ],
      "execution_count": 10,
      "outputs": [
        {
          "output_type": "stream",
          "text": [
            "Python ->\n",
            "CPU times: user 48 µs, sys: 8 µs, total: 56 µs\n",
            "Wall time: 58.7 µs\n",
            "Numpy ->\n",
            "CPU times: user 27 µs, sys: 0 ns, total: 27 µs\n",
            "Wall time: 29.8 µs\n"
          ],
          "name": "stdout"
        },
        {
          "output_type": "execute_result",
          "data": {
            "text/plain": [
              "array([[4., 4.],\n",
              "       [4., 4.],\n",
              "       [4., 4.],\n",
              "       [4., 4.]])"
            ]
          },
          "metadata": {
            "tags": []
          },
          "execution_count": 10
        }
      ]
    },
    {
      "cell_type": "markdown",
      "metadata": {
        "colab_type": "text",
        "id": "pNEVDEQJ9kVz"
      },
      "source": [
        "### Задание 2"
      ]
    },
    {
      "cell_type": "markdown",
      "metadata": {
        "colab_type": "text",
        "id": "TNG-vLX_9kVz"
      },
      "source": [
        "Напишите функцию, которая по данной последовательности $\\{A_i\\}_{i=1}^n$ строит последовательность $S_n$, где $S_k = \\frac{A_1 + ... + A_k}{k}$.\n",
        "Аналогично -- с помощью библиотеки NumPy и без нее. Сравните скорость, объясните результат."
      ]
    },
    {
      "cell_type": "code",
      "metadata": {
        "id": "l1_IaxS3P3nY",
        "colab_type": "code",
        "colab": {}
      },
      "source": [
        "# your code here"
      ],
      "execution_count": 0,
      "outputs": []
    },
    {
      "cell_type": "markdown",
      "metadata": {
        "colab_type": "text",
        "id": "hYOmgppl9kV5"
      },
      "source": [
        "### Задание 3"
      ]
    },
    {
      "cell_type": "markdown",
      "metadata": {
        "colab_type": "text",
        "id": "TkrFKdoJ9kV5"
      },
      "source": [
        "Пусть задан некоторый массив $X$. Надо построить новый массив, где все элементы с нечетными индексами требуется заменить на число $a$ (если оно не указано, то на 1). Все четные элементы исходного массива нужно возвести в куб и записать в обратном порядке относительно позиций этих элементов. Массив $X$ при этом должен остаться без изменений. В конце требуется слить массив $X$ с преобразованным $X$ и вывести в обратном порядке."
      ]
    },
    {
      "cell_type": "code",
      "metadata": {
        "id": "DF0HtHKlP3nf",
        "colab_type": "code",
        "colab": {}
      },
      "source": [
        "# your code here"
      ],
      "execution_count": 0,
      "outputs": []
    },
    {
      "cell_type": "markdown",
      "metadata": {
        "id": "LMJMa2ekP3nk",
        "colab_type": "text"
      },
      "source": [
        "### Задание 4"
      ]
    },
    {
      "cell_type": "markdown",
      "metadata": {
        "id": "pPwabFIYP3nm",
        "colab_type": "text"
      },
      "source": [
        "Реализуйте <a href=\"https://habr.com/ru/post/128454/\" target=\"_blank\">метод Монте-Карло</a> для вычисления числа $\\pi$. Напишите две версии: с использованием NumPy и без. Сравните время работы. Вычислите значение числа $\\pi$ с точностью до второго знака после запятой."
      ]
    },
    {
      "cell_type": "code",
      "metadata": {
        "id": "fRkoN_JsWucw",
        "colab_type": "code",
        "colab": {
          "base_uri": "https://localhost:8080/",
          "height": 72
        },
        "outputId": "3589ab8a-be2c-4bfe-b6ee-8dbc0f9abca8"
      },
      "source": [
        "from random import *\n",
        "from math import sqrt\n",
        "inside=0\n",
        "n=10**6\n",
        "for i in range(0,n):\n",
        "    x=random()\n",
        "    y=random()\n",
        "    if sqrt(x*x+y*y)<=1:\n",
        "        inside+=1\n",
        "pi=4*inside/n\n",
        "%time str(pi)[:4]"
      ],
      "execution_count": 33,
      "outputs": [
        {
          "output_type": "stream",
          "text": [
            "CPU times: user 7 µs, sys: 1 µs, total: 8 µs\n",
            "Wall time: 8.82 µs\n"
          ],
          "name": "stdout"
        },
        {
          "output_type": "execute_result",
          "data": {
            "text/plain": [
              "'3.14'"
            ]
          },
          "metadata": {
            "tags": []
          },
          "execution_count": 33
        }
      ]
    },
    {
      "cell_type": "code",
      "metadata": {
        "id": "KtUkF-fAP3nn",
        "colab_type": "code",
        "colab": {
          "base_uri": "https://localhost:8080/",
          "height": 72
        },
        "outputId": "63a6e703-c1c5-4679-cf62-626b0c5fc183"
      },
      "source": [
        "N = n\n",
        "pts = np.random.random((N,2))\n",
        "\n",
        "idx = (pts**2).sum(axis=1) < 1.0\n",
        "pi = 4*idx.sum()/N\n",
        "%time str(pi)[:4]\n"
      ],
      "execution_count": 36,
      "outputs": [
        {
          "output_type": "stream",
          "text": [
            "CPU times: user 22 µs, sys: 0 ns, total: 22 µs\n",
            "Wall time: 24.8 µs\n"
          ],
          "name": "stdout"
        },
        {
          "output_type": "execute_result",
          "data": {
            "text/plain": [
              "'3.14'"
            ]
          },
          "metadata": {
            "tags": []
          },
          "execution_count": 36
        }
      ]
    }
  ]
}